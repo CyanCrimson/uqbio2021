{
 "cells": [
  {
   "cell_type": "code",
   "execution_count": null,
   "id": "coastal-estonia",
   "metadata": {},
   "outputs": [],
   "source": [
    "import matplotlib as mpl # for plotting\n",
    "import matplotlib.pyplot as plt # for plotting\n",
    "import ipywidgets as widgets # for interactive widgets\n",
    "from ipywidgets import interact, interactive, fixed, interact_manual, Button, HBox, VBox, Layout,GridspecLayout\n",
    "import numpy as np\n",
    "from numpy import unravel_index\n",
    "import pandas as pd\n",
    "from pandas import DataFrame, Series  \n",
    "from skimage import io \n",
    "from skimage.io import imread\n",
    "import urllib.request"
   ]
  },
  {
   "cell_type": "code",
   "execution_count": null,
   "id": "focused-shame",
   "metadata": {},
   "outputs": [],
   "source": [
    "%%capture\n",
    "!pip install trackpy\n",
    "import trackpy as tp\n",
    "!pip install bqplot\n",
    "from bqplot import *"
   ]
  }
 ],
 "metadata": {
  "kernelspec": {
   "display_name": "Python 3",
   "language": "python",
   "name": "python3"
  },
  "language_info": {
   "codemirror_mode": {
    "name": "ipython",
    "version": 3
   },
   "file_extension": ".py",
   "mimetype": "text/x-python",
   "name": "python",
   "nbconvert_exporter": "python",
   "pygments_lexer": "ipython3",
   "version": "3.8.5"
  }
 },
 "nbformat": 4,
 "nbformat_minor": 5
}
